{
 "cells": [
  {
   "cell_type": "code",
   "execution_count": 1,
   "id": "0265c794",
   "metadata": {},
   "outputs": [],
   "source": [
    "import chromedriver_binary\n",
    "from selenium import webdriver\n",
    "\n",
    "from selenium.webdriver.common.by import By"
   ]
  },
  {
   "cell_type": "code",
   "execution_count": 2,
   "id": "ffec3368",
   "metadata": {},
   "outputs": [],
   "source": [
    "url=\"https://zenn.dev/rie_amasato\""
   ]
  },
  {
   "cell_type": "code",
   "execution_count": 3,
   "id": "77aa87f5",
   "metadata": {},
   "outputs": [],
   "source": [
    "options = webdriver.ChromeOptions()\n",
    "\n",
    "options.binary_location =  '../../bin/google-chrome-stable'\n",
    "\n",
    "options.add_argument('--headless')\n",
    "options.add_argument('--disable-gpu')\n",
    "options.add_argument('--no-sandbox')\n",
    "\n",
    "driver = webdriver.Chrome(options=options)\n",
    "\n",
    "driver.get(url)"
   ]
  },
  {
   "cell_type": "code",
   "execution_count": null,
   "id": "805d9582",
   "metadata": {
    "scrolled": true
   },
   "outputs": [],
   "source": []
  },
  {
   "cell_type": "code",
   "execution_count": 4,
   "id": "5dd7f75d",
   "metadata": {},
   "outputs": [],
   "source": [
    "h3s=driver.find_elements(By.TAG_NAME, \"h3\")"
   ]
  },
  {
   "cell_type": "code",
   "execution_count": 5,
   "id": "350bd9b6",
   "metadata": {},
   "outputs": [
    {
     "name": "stdout",
     "output_type": "stream",
     "text": [
      "0 :  Gitpodでdenoの環境をつくってみたお話\n",
      "1 :  Chrome拡張をつくるための設定ファイルに関するお話\n",
      "2 :  Gitpod上でのJupyter環境で、バージョンを7系から6系にしたお話\n",
      "3 :  スクラムに関して、公式のガイドブックを読んでみたお話\n",
      "4 :  Dockerfileを使ってfly .ioコンテナアプリを公開するお話\n",
      "5 :  SSH認証で使う”復号してからの暗号化”を実際にしてみたお話\n",
      "6 :  Github ActionのCronジョブが破棄されやすい時間帯のお話\n",
      "7 :  fly.ioのdocker接続エラーを解消したお話（v0.1.28）\n",
      "8 :  ChatGPTでミルクボーイを作ろうとしたお話\n",
      "9 :  fly.io のアプリケーションをv2にアップグレードしたお話\n",
      "10 :  fly.ioを通してポートの設定に関する理解を深めたお話\n",
      "11 :  Githubのプロフィールを動的に変化させるカスタマイズを作ってみた\n",
      "12 :  iPadにもGitHubからGitpodにアクセスする拡張機能が欲しい！\n",
      "13 :  Gitpod上でJupyter notebookを実行する\n"
     ]
    }
   ],
   "source": [
    "for i, h3 in enumerate(h3s):\n",
    "    print(i, \": \" ,h3.text)"
   ]
  },
  {
   "cell_type": "code",
   "execution_count": null,
   "id": "a6e2e37a",
   "metadata": {},
   "outputs": [],
   "source": []
  }
 ],
 "metadata": {
  "kernelspec": {
   "display_name": "Python 3 (ipykernel)",
   "language": "python",
   "name": "python3"
  },
  "language_info": {
   "codemirror_mode": {
    "name": "ipython",
    "version": 3
   },
   "file_extension": ".py",
   "mimetype": "text/x-python",
   "name": "python",
   "nbconvert_exporter": "python",
   "pygments_lexer": "ipython3",
   "version": "3.12.0"
  }
 },
 "nbformat": 4,
 "nbformat_minor": 5
}
